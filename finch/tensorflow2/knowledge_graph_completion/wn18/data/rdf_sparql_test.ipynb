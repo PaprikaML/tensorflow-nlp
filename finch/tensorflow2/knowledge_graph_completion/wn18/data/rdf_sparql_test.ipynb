{
  "nbformat": 4,
  "nbformat_minor": 0,
  "metadata": {
    "colab": {
      "name": "rdf_sparql_test.ipynb",
      "version": "0.3.2",
      "provenance": [],
      "collapsed_sections": []
    },
    "kernelspec": {
      "name": "python3",
      "display_name": "Python 3"
    }
  },
  "cells": [
    {
      "cell_type": "code",
      "metadata": {
        "id": "NAqEletIFudA",
        "colab_type": "code",
        "colab": {
          "base_uri": "https://localhost:8080/",
          "height": 35
        },
        "outputId": "ee059f4d-6a67-41be-8006-f302b030bb26"
      },
      "source": [
        "\"\"\"\n",
        "We use following lines because we are running on Google Colab\n",
        "If you are running notebook on a local computer, you don't need these\n",
        "\"\"\"\n",
        "from google.colab import drive\n",
        "drive.mount('/content/gdrive')\n",
        "import os\n",
        "os.chdir('/content/gdrive/My Drive/finch/tensorflow2/knowledge_graph_completion/wn18/data')"
      ],
      "execution_count": 1,
      "outputs": [
        {
          "output_type": "stream",
          "text": [
            "Drive already mounted at /content/gdrive; to attempt to forcibly remount, call drive.mount(\"/content/gdrive\", force_remount=True).\n"
          ],
          "name": "stdout"
        }
      ]
    },
    {
      "cell_type": "code",
      "metadata": {
        "id": "SyBoP3YnGO_j",
        "colab_type": "code",
        "colab": {
          "base_uri": "https://localhost:8080/",
          "height": 87
        },
        "outputId": "2f193cd9-1ef4-4e02-b89d-2d1629a38bbe"
      },
      "source": [
        "!pip install rdflib"
      ],
      "execution_count": 2,
      "outputs": [
        {
          "output_type": "stream",
          "text": [
            "Requirement already satisfied: rdflib in /usr/local/lib/python3.6/dist-packages (4.2.2)\n",
            "Requirement already satisfied: pyparsing in /usr/local/lib/python3.6/dist-packages (from rdflib) (2.4.2)\n",
            "Requirement already satisfied: isodate in /usr/local/lib/python3.6/dist-packages (from rdflib) (0.6.0)\n",
            "Requirement already satisfied: six in /usr/local/lib/python3.6/dist-packages (from isodate->rdflib) (1.12.0)\n"
          ],
          "name": "stdout"
        }
      ]
    },
    {
      "cell_type": "code",
      "metadata": {
        "id": "BpHKwDBnK-ZE",
        "colab_type": "code",
        "colab": {}
      },
      "source": [
        "import rdflib\n",
        "import time\n",
        "import pprint\n",
        "\n",
        "from tqdm import tqdm"
      ],
      "execution_count": 0,
      "outputs": []
    },
    {
      "cell_type": "code",
      "metadata": {
        "id": "71_aFHjfKVoO",
        "colab_type": "code",
        "colab": {}
      },
      "source": [
        "URI_PREFIX = 'http://example.org/'"
      ],
      "execution_count": 0,
      "outputs": []
    },
    {
      "cell_type": "code",
      "metadata": {
        "id": "4oDAOUUCGbtS",
        "colab_type": "code",
        "colab": {}
      },
      "source": [
        "with open('./wn18/train.txt') as f:\n",
        "  triples = [line.rstrip().split('\\t') for line in f]"
      ],
      "execution_count": 0,
      "outputs": []
    },
    {
      "cell_type": "code",
      "metadata": {
        "id": "c64qzQQLJWYw",
        "colab_type": "code",
        "colab": {
          "base_uri": "https://localhost:8080/",
          "height": 35
        },
        "outputId": "bc737aa5-eae0-434c-9a8b-6325c422dd0d"
      },
      "source": [
        "graph = rdflib.Graph()\n",
        "resources = set([r for triple in triples for r in triple])\n",
        "resource2uri = {r: URI_PREFIX + r for r in resources}\n",
        "for (s, p, o) in tqdm(triples, total=len(triples), ncols=70):\n",
        "  s_uri = rdflib.URIRef(resource2uri[s])\n",
        "  p_uri = rdflib.URIRef(resource2uri[p])\n",
        "  o_uri = rdflib.URIRef(resource2uri[o])\n",
        "  graph.add((s_uri, p_uri, o_uri))"
      ],
      "execution_count": 6,
      "outputs": [
        {
          "output_type": "stream",
          "text": [
            "100%|██████████████████████| 141442/141442 [00:05<00:00, 27204.93it/s]\n"
          ],
          "name": "stderr"
        }
      ]
    },
    {
      "cell_type": "code",
      "metadata": {
        "id": "Fg4KivAhLaFl",
        "colab_type": "code",
        "colab": {}
      },
      "source": [
        "TEST_P, TEST_O = '_hyponym', '04371774'\n",
        "\n",
        "QUERY = (\n",
        "    \"\"\"\n",
        "    PREFIX prefix: <%s>\n",
        "    \n",
        "    SELECT DISTINCT ?s WHERE {\n",
        "        ?s prefix:%s prefix:%s .\n",
        "    }\n",
        "    \"\"\" % (URI_PREFIX, TEST_P, TEST_O)\n",
        ")"
      ],
      "execution_count": 0,
      "outputs": []
    },
    {
      "cell_type": "code",
      "metadata": {
        "id": "lX9hZBXtLz0E",
        "colab_type": "code",
        "colab": {
          "base_uri": "https://localhost:8080/",
          "height": 69
        },
        "outputId": "65c8a353-1bd2-4f33-9420-54a35f834f31"
      },
      "source": [
        "uri2resource = {uri: r for r, uri in resource2uri.items()}\n",
        "t0 = time.time()\n",
        "res = []\n",
        "count = 0\n",
        "for row in graph.query(QUERY):\n",
        "    s = uri2resource[row.s.toPython()]\n",
        "    res.append((s, TEST_P, TEST_O))\n",
        "    count += 1\n",
        "    \n",
        "print(\"Query Spent %.2f sec\" % (time.time() - t0))\n",
        "print(\"Get %d / %d Results\" % (count, len(triples)))\n",
        "pprint.pprint(res)"
      ],
      "execution_count": 8,
      "outputs": [
        {
          "output_type": "stream",
          "text": [
            "Query Spent 1.82 sec\n",
            "Get 2 / 141442 Results\n",
            "[('03736970', '_hyponym', '04371774'), ('03964744', '_hyponym', '04371774')]\n"
          ],
          "name": "stdout"
        }
      ]
    }
  ]
}